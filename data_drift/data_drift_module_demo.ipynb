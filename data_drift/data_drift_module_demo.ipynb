{
 "cells": [
  {
   "cell_type": "markdown",
   "metadata": {},
   "source": [
    "## Preparations"
   ]
  },
  {
   "cell_type": "markdown",
   "metadata": {},
   "source": [
    "### Imports"
   ]
  },
  {
   "cell_type": "code",
   "execution_count": 1,
   "metadata": {},
   "outputs": [
    {
     "name": "stderr",
     "output_type": "stream",
     "text": [
      "D:\\docs\\Study\\DSML_IDC\\Semester5\\MLOps\\Project\\venv\\lib\\site-packages\\tqdm\\auto.py:22: TqdmWarning: IProgress not found. Please update jupyter and ipywidgets. See https://ipywidgets.readthedocs.io/en/stable/user_install.html\n",
      "  from .autonotebook import tqdm as notebook_tqdm\n"
     ]
    }
   ],
   "source": [
    "import numpy as np\n",
    "from matplotlib.pyplot import get_cmap\n",
    "from sklearn.model_selection import train_test_split\n",
    "from matplotlib import pyplot as plt\n",
    "import pandas as pd\n",
    "from boston_ds import BostonDS\n",
    "from drift_detection.drift_testers.ks_drift_tester import KsDriftTester\n",
    "from helpers.data_helper import sample_from_data, change_int_values\n",
    "from helpers.model_helper import XgbModel\n",
    "from helpers.utils import calc_perf_kpis\n",
    "\n",
    "from drift_detection.drift_detector import DriftDetector\n"
   ]
  },
  {
   "cell_type": "markdown",
   "metadata": {},
   "source": [
    "### Prepare Boston data for demo"
   ]
  },
  {
   "cell_type": "code",
   "execution_count": 2,
   "metadata": {},
   "outputs": [
    {
     "data": {
      "text/html": [
       "<div>\n",
       "<style scoped>\n",
       "    .dataframe tbody tr th:only-of-type {\n",
       "        vertical-align: middle;\n",
       "    }\n",
       "\n",
       "    .dataframe tbody tr th {\n",
       "        vertical-align: top;\n",
       "    }\n",
       "\n",
       "    .dataframe thead th {\n",
       "        text-align: right;\n",
       "    }\n",
       "</style>\n",
       "<table border=\"1\" class=\"dataframe\">\n",
       "  <thead>\n",
       "    <tr style=\"text-align: right;\">\n",
       "      <th></th>\n",
       "      <th>CRIM</th>\n",
       "      <th>ZN</th>\n",
       "      <th>INDUS</th>\n",
       "      <th>CHAS</th>\n",
       "      <th>NOX</th>\n",
       "      <th>RM</th>\n",
       "      <th>AGE</th>\n",
       "      <th>DIS</th>\n",
       "      <th>RAD</th>\n",
       "      <th>TAX</th>\n",
       "      <th>PTRATIO</th>\n",
       "      <th>B</th>\n",
       "      <th>LSTAT</th>\n",
       "    </tr>\n",
       "  </thead>\n",
       "  <tbody>\n",
       "    <tr>\n",
       "      <th>1209</th>\n",
       "      <td>0.04058</td>\n",
       "      <td>80.0</td>\n",
       "      <td>1.52</td>\n",
       "      <td>0</td>\n",
       "      <td>0.403464</td>\n",
       "      <td>7.107</td>\n",
       "      <td>36.171671</td>\n",
       "      <td>7.327289</td>\n",
       "      <td>2</td>\n",
       "      <td>329</td>\n",
       "      <td>12.6</td>\n",
       "      <td>354.31</td>\n",
       "      <td>8.61</td>\n",
       "    </tr>\n",
       "    <tr>\n",
       "      <th>1659</th>\n",
       "      <td>1.452944</td>\n",
       "      <td>0.0</td>\n",
       "      <td>21.89</td>\n",
       "      <td>0</td>\n",
       "      <td>0.624444</td>\n",
       "      <td>5.019</td>\n",
       "      <td>99.815688</td>\n",
       "      <td>1.452369</td>\n",
       "      <td>4</td>\n",
       "      <td>437</td>\n",
       "      <td>21.2</td>\n",
       "      <td>396.9</td>\n",
       "      <td>34.41</td>\n",
       "    </tr>\n",
       "    <tr>\n",
       "      <th>675</th>\n",
       "      <td>2.482923</td>\n",
       "      <td>0.0</td>\n",
       "      <td>19.58</td>\n",
       "      <td>0</td>\n",
       "      <td>0.602769</td>\n",
       "      <td>6.402</td>\n",
       "      <td>94.954058</td>\n",
       "      <td>2.28587</td>\n",
       "      <td>5</td>\n",
       "      <td>403</td>\n",
       "      <td>14.7</td>\n",
       "      <td>330.04</td>\n",
       "      <td>11.32</td>\n",
       "    </tr>\n",
       "    <tr>\n",
       "      <th>575</th>\n",
       "      <td>0.213122</td>\n",
       "      <td>12.5</td>\n",
       "      <td>6.07</td>\n",
       "      <td>0</td>\n",
       "      <td>0.409697</td>\n",
       "      <td>5.885</td>\n",
       "      <td>32.607337</td>\n",
       "      <td>6.487614</td>\n",
       "      <td>4</td>\n",
       "      <td>345</td>\n",
       "      <td>18.9</td>\n",
       "      <td>396.9</td>\n",
       "      <td>8.79</td>\n",
       "    </tr>\n",
       "    <tr>\n",
       "      <th>151</th>\n",
       "      <td>1.626987</td>\n",
       "      <td>0.0</td>\n",
       "      <td>19.58</td>\n",
       "      <td>0</td>\n",
       "      <td>0.871264</td>\n",
       "      <td>5.404</td>\n",
       "      <td>99.645385</td>\n",
       "      <td>1.590485</td>\n",
       "      <td>5</td>\n",
       "      <td>403</td>\n",
       "      <td>14.7</td>\n",
       "      <td>341.6</td>\n",
       "      <td>13.28</td>\n",
       "    </tr>\n",
       "  </tbody>\n",
       "</table>\n",
       "</div>"
      ],
      "text/plain": [
       "          CRIM    ZN  INDUS  CHAS       NOX     RM        AGE       DIS  RAD  \\\n",
       "1209   0.04058  80.0   1.52     0  0.403464  7.107  36.171671  7.327289    2   \n",
       "1659  1.452944   0.0  21.89     0  0.624444  5.019  99.815688  1.452369    4   \n",
       "675   2.482923   0.0  19.58     0  0.602769  6.402  94.954058   2.28587    5   \n",
       "575   0.213122  12.5   6.07     0  0.409697  5.885  32.607337  6.487614    4   \n",
       "151   1.626987   0.0  19.58     0  0.871264  5.404  99.645385  1.590485    5   \n",
       "\n",
       "      TAX  PTRATIO       B  LSTAT  \n",
       "1209  329     12.6  354.31   8.61  \n",
       "1659  437     21.2   396.9  34.41  \n",
       "675   403     14.7  330.04  11.32  \n",
       "575   345     18.9   396.9   8.79  \n",
       "151   403     14.7   341.6  13.28  "
      ]
     },
     "metadata": {},
     "output_type": "display_data"
    }
   ],
   "source": [
    "\n",
    "# ============================================================= Initial data setup\n",
    "# Load and prep boston data\n",
    "boston = BostonDS()\n",
    "\n",
    "x = boston.x\n",
    "y = boston.y\n",
    "x_cont_features = boston.cont_features\n",
    "x_int_features = boston.int_features\n",
    "x_cat_features = boston.cat_features\n",
    "\n",
    "# from entire dataset, choose subset for initial train/test\n",
    "TRAIN_TEST_SIZE = 520\n",
    "x_sample, y_sample = sample_from_data(x, y, TRAIN_TEST_SIZE)\n",
    "x_train, x_test, y_train, y_test = train_test_split(x_sample, y_sample, test_size=0.4, random_state=10)\n",
    "\n",
    "display(x_train.head())"
   ]
  },
  {
   "cell_type": "markdown",
   "metadata": {},
   "source": [
    "## Train Step"
   ]
  },
  {
   "cell_type": "markdown",
   "metadata": {},
   "source": [
    "### Model train"
   ]
  },
  {
   "cell_type": "code",
   "execution_count": 3,
   "metadata": {},
   "outputs": [],
   "source": [
    "\n",
    "# ============================================================= Train step\n",
    "# Build model on train data\n",
    "model = XgbModel()\n",
    "model.fit(x_train, y_train)\n"
   ]
  },
  {
   "cell_type": "markdown",
   "metadata": {},
   "source": [
    "### Drift detector configuration and train"
   ]
  },
  {
   "cell_type": "markdown",
   "metadata": {},
   "source": [
    "**Creates a drift detector and auto-select and fit drift testers based on feature types:**\n",
    "* Numeric features - Kolmogorov–Smirnov tester\n",
    "* Categorical tests - Chi^2 tester\n",
    "* All together - KL Divergence (Multivariable) tester\n",
    "\n",
    "All testers default with pval=0.005, with three conseq. failures."
   ]
  },
  {
   "cell_type": "code",
   "execution_count": 10,
   "metadata": {},
   "outputs": [],
   "source": [
    "# Create Feature drift detector with all default testers\n",
    "drift_detector = DriftDetector()\n",
    "drift_detector.autoselect_testers(x_cont_features, x_int_features, x_cat_features)\n",
    "drift_detector.fit(x_train)"
   ]
  },
  {
   "cell_type": "code",
   "execution_count": null,
   "metadata": {},
   "outputs": [],
   "source": [
    "#Custom tester addition \n",
    "drift_detector.add_tester(MMDDriftTester('mmd', cont_feature_names, -1)) # threshold=-1 --> Autotune "
   ]
  },
  {
   "cell_type": "code",
   "execution_count": 5,
   "metadata": {},
   "outputs": [
    {
     "name": "stdout",
     "output_type": "stream",
     "text": [
      "Testers in drif detector:  14 \n",
      " ['ks_CRIM', 'ks_ZN', 'ks_INDUS', 'ks_NOX', 'ks_RM', 'ks_AGE', 'ks_DIS', 'ks_PTRATIO', 'ks_B', 'ks_LSTAT', 'ks_RAD', 'ks_TAX', 'chi_CHAS', 'kl_div']\n"
     ]
    }
   ],
   "source": [
    "tests_in_detector = drift_detector.drift_test_set.get_test_names()\n",
    "print('Testers in drif detector: ', len(tests_in_detector),'\\n', tests_in_detector)"
   ]
  },
  {
   "cell_type": "markdown",
   "metadata": {},
   "source": [
    "**In Advanced mode - user can select other testers, p-vals, conseq failures.**\n",
    "\n",
    "Univariate testers:\n",
    "* Kolmogorov–Smirnov\n",
    "* Chi^2\n",
    "\n",
    "Multivariate testers:\n",
    "* Multivariate KL Divergence with autofit\n",
    "* Multivariate MMD (Max Mean Divergence) with autofit\n",
    "* Multivatiate KS over PCA\n"
   ]
  },
  {
   "cell_type": "markdown",
   "metadata": {},
   "source": [
    "### Collect data for plots later"
   ]
  },
  {
   "cell_type": "code",
   "execution_count": 6,
   "metadata": {},
   "outputs": [],
   "source": [
    "# Initial predction / drift test plan\n",
    "y_pred = model.predict(x_test)\n",
    "drift_test_results = drift_detector.test_drift(x_test)"
   ]
  },
  {
   "cell_type": "code",
   "execution_count": 7,
   "metadata": {},
   "outputs": [],
   "source": [
    "# Calc and store initial model performance KPIs on test\n",
    "kpi = calc_perf_kpis(x_test, y_test, y_pred)\n",
    "kpi['drift_detected'] = drift_test_results['drift_detected']\n",
    "kpi['test_exceptions'] = drift_test_results['test_exceptions']\n",
    "\n",
    "perf_kpis = pd.DataFrame(columns=kpi.keys()).append(kpi, ignore_index=True)"
   ]
  },
  {
   "cell_type": "markdown",
   "metadata": {},
   "source": [
    "## Runtime step"
   ]
  },
  {
   "cell_type": "code",
   "execution_count": 8,
   "metadata": {},
   "outputs": [],
   "source": [
    "# ============================================================= Runtime step\n",
    "number_of_batches = 300\n",
    "start_drift_at_batch = 100\n",
    "sample_size = 50\n",
    "\n",
    "\n",
    "# Runtime loop\n",
    "for i in range(number_of_batches):\n",
    "    # Sample batch from data (No drift yet)\n",
    "    x_sample, y_sample = sample_from_data(x, y, sample_size)\n",
    "\n",
    "    # modify data batch to create feature drift\n",
    "    if i > start_drift_at_batch:\n",
    "        x_sample['RM'] = x_sample['RM'] + x['RM'].std() * 0.01 * (i - start_drift_at_batch)\n",
    "        x_sample['LSTAT'] = x_sample['LSTAT'] + x['LSTAT'].std() * 0.01 * (i - start_drift_at_batch)\n",
    "        x_sample = change_int_values(x_sample, 'CHAS', 0, 1, 0.01 * (i - start_drift_at_batch))\n",
    "\n",
    "\n",
    "    # predict\n",
    "    y_pred = model.predict(x_sample)\n",
    "\n",
    "    # calc RMSE (For demo only, cannot do in real runtime - no labels there\n",
    "    kpi_sample = calc_perf_kpis(x_sample, y_sample, y_pred)\n",
    "\n",
    "    # Execute drift test\n",
    "    drift_test_results = drift_detector.test_drift(x_sample)\n",
    "\n",
    "    # Collect data for plots later on\n",
    "    kpi_sample['drift_detected'] = drift_test_results['drift_detected']\n",
    "    kpi_sample['test_exceptions'] = drift_test_results['test_exceptions']\n",
    "    perf_kpis = perf_kpis.append(kpi_sample, ignore_index=True)\n"
   ]
  },
  {
   "cell_type": "markdown",
   "metadata": {},
   "source": [
    "## Plot RMSE and detection results"
   ]
  },
  {
   "cell_type": "code",
   "execution_count": 9,
   "metadata": {},
   "outputs": [
    {
     "data": {
      "image/png": "[encoded data removed]",
      "text/plain": [
       "<Figure size 700x700 with 1 Axes>"
      ]
     },
     "metadata": {},
     "output_type": "display_data"
    },
    {
     "data": {
      "text/html": [
       "<div>\n",
       "<style scoped>\n",
       "    .dataframe tbody tr th:only-of-type {\n",
       "        vertical-align: middle;\n",
       "    }\n",
       "\n",
       "    .dataframe tbody tr th {\n",
       "        vertical-align: top;\n",
       "    }\n",
       "\n",
       "    .dataframe thead th {\n",
       "        text-align: right;\n",
       "    }\n",
       "</style>\n",
       "<table border=\"1\" class=\"dataframe\">\n",
       "  <thead>\n",
       "    <tr style=\"text-align: right;\">\n",
       "      <th></th>\n",
       "      <th>R_sq</th>\n",
       "      <th>ajd_R_sq</th>\n",
       "      <th>MAE</th>\n",
       "      <th>MSE</th>\n",
       "      <th>RMSE</th>\n",
       "      <th>drift_detected</th>\n",
       "      <th>test_exceptions</th>\n",
       "    </tr>\n",
       "  </thead>\n",
       "  <tbody>\n",
       "    <tr>\n",
       "      <th>0</th>\n",
       "      <td>0.878114</td>\n",
       "      <td>0.869946</td>\n",
       "      <td>1.522580</td>\n",
       "      <td>1.522580</td>\n",
       "      <td>3.010843</td>\n",
       "      <td>False</td>\n",
       "      <td>[]</td>\n",
       "    </tr>\n",
       "    <tr>\n",
       "      <th>1</th>\n",
       "      <td>0.864455</td>\n",
       "      <td>0.815509</td>\n",
       "      <td>1.462203</td>\n",
       "      <td>1.462203</td>\n",
       "      <td>3.374172</td>\n",
       "      <td>False</td>\n",
       "      <td>[]</td>\n",
       "    </tr>\n",
       "    <tr>\n",
       "      <th>2</th>\n",
       "      <td>0.944704</td>\n",
       "      <td>0.924736</td>\n",
       "      <td>1.238879</td>\n",
       "      <td>1.238879</td>\n",
       "      <td>2.088742</td>\n",
       "      <td>False</td>\n",
       "      <td>[]</td>\n",
       "    </tr>\n",
       "    <tr>\n",
       "      <th>3</th>\n",
       "      <td>0.943575</td>\n",
       "      <td>0.923199</td>\n",
       "      <td>1.320492</td>\n",
       "      <td>1.320492</td>\n",
       "      <td>2.280716</td>\n",
       "      <td>False</td>\n",
       "      <td>[]</td>\n",
       "    </tr>\n",
       "    <tr>\n",
       "      <th>4</th>\n",
       "      <td>0.960338</td>\n",
       "      <td>0.946016</td>\n",
       "      <td>1.023553</td>\n",
       "      <td>1.023553</td>\n",
       "      <td>1.639433</td>\n",
       "      <td>False</td>\n",
       "      <td>[]</td>\n",
       "    </tr>\n",
       "    <tr>\n",
       "      <th>...</th>\n",
       "      <td>...</td>\n",
       "      <td>...</td>\n",
       "      <td>...</td>\n",
       "      <td>...</td>\n",
       "      <td>...</td>\n",
       "      <td>...</td>\n",
       "      <td>...</td>\n",
       "    </tr>\n",
       "    <tr>\n",
       "      <th>296</th>\n",
       "      <td>-0.578691</td>\n",
       "      <td>-1.148774</td>\n",
       "      <td>9.868647</td>\n",
       "      <td>9.868647</td>\n",
       "      <td>10.894539</td>\n",
       "      <td>True</td>\n",
       "      <td>[ks_RM, ks_LSTAT, kl_div]</td>\n",
       "    </tr>\n",
       "    <tr>\n",
       "      <th>297</th>\n",
       "      <td>-0.360620</td>\n",
       "      <td>-0.851955</td>\n",
       "      <td>10.810404</td>\n",
       "      <td>10.810404</td>\n",
       "      <td>11.985625</td>\n",
       "      <td>True</td>\n",
       "      <td>[ks_RM, ks_LSTAT, kl_div]</td>\n",
       "    </tr>\n",
       "    <tr>\n",
       "      <th>298</th>\n",
       "      <td>-0.369514</td>\n",
       "      <td>-0.864061</td>\n",
       "      <td>11.365128</td>\n",
       "      <td>11.365128</td>\n",
       "      <td>12.547010</td>\n",
       "      <td>True</td>\n",
       "      <td>[ks_RM, ks_LSTAT, kl_div]</td>\n",
       "    </tr>\n",
       "    <tr>\n",
       "      <th>299</th>\n",
       "      <td>-0.359425</td>\n",
       "      <td>-0.850328</td>\n",
       "      <td>9.586326</td>\n",
       "      <td>9.586326</td>\n",
       "      <td>11.089541</td>\n",
       "      <td>True</td>\n",
       "      <td>[ks_RM, ks_LSTAT, kl_div]</td>\n",
       "    </tr>\n",
       "    <tr>\n",
       "      <th>300</th>\n",
       "      <td>-0.340966</td>\n",
       "      <td>-0.825204</td>\n",
       "      <td>11.415532</td>\n",
       "      <td>11.415532</td>\n",
       "      <td>13.087858</td>\n",
       "      <td>True</td>\n",
       "      <td>[ks_RM, ks_LSTAT, kl_div]</td>\n",
       "    </tr>\n",
       "  </tbody>\n",
       "</table>\n",
       "<p>301 rows × 7 columns</p>\n",
       "</div>"
      ],
      "text/plain": [
       "         R_sq  ajd_R_sq        MAE        MSE       RMSE drift_detected  \\\n",
       "0    0.878114  0.869946   1.522580   1.522580   3.010843          False   \n",
       "1    0.864455  0.815509   1.462203   1.462203   3.374172          False   \n",
       "2    0.944704  0.924736   1.238879   1.238879   2.088742          False   \n",
       "3    0.943575  0.923199   1.320492   1.320492   2.280716          False   \n",
       "4    0.960338  0.946016   1.023553   1.023553   1.639433          False   \n",
       "..        ...       ...        ...        ...        ...            ...   \n",
       "296 -0.578691 -1.148774   9.868647   9.868647  10.894539           True   \n",
       "297 -0.360620 -0.851955  10.810404  10.810404  11.985625           True   \n",
       "298 -0.369514 -0.864061  11.365128  11.365128  12.547010           True   \n",
       "299 -0.359425 -0.850328   9.586326   9.586326  11.089541           True   \n",
       "300 -0.340966 -0.825204  11.415532  11.415532  13.087858           True   \n",
       "\n",
       "               test_exceptions  \n",
       "0                           []  \n",
       "1                           []  \n",
       "2                           []  \n",
       "3                           []  \n",
       "4                           []  \n",
       "..                         ...  \n",
       "296  [ks_RM, ks_LSTAT, kl_div]  \n",
       "297  [ks_RM, ks_LSTAT, kl_div]  \n",
       "298  [ks_RM, ks_LSTAT, kl_div]  \n",
       "299  [ks_RM, ks_LSTAT, kl_div]  \n",
       "300  [ks_RM, ks_LSTAT, kl_div]  \n",
       "\n",
       "[301 rows x 7 columns]"
      ]
     },
     "metadata": {},
     "output_type": "display_data"
    }
   ],
   "source": [
    "\n",
    "# ========================================================================== Plot\n",
    "\n",
    "fig, axs = plt.subplots(figsize=(7, 7))\n",
    "\n",
    "# plot RMSE (Loss function) line\n",
    "axs.plot(perf_kpis['RMSE'])\n",
    "\n",
    "# plot vertical lin for data drift start point\n",
    "axs.axvline(x=start_drift_at_batch, label='drift_start', color='r', linestyle='dashed')\n",
    "\n",
    "# Get drift detector x_history for plots\n",
    "x_history = drift_detector.history_df\n",
    "\n",
    "# plot vertical line for each tester that fired\n",
    "fail_detections = []\n",
    "cmap = get_cmap('hsv', 15)\n",
    "\n",
    "for i, test_name in enumerate(drift_detector.get_test_names()):\n",
    "    if x_history[test_name].sum() > 0:\n",
    "        detection_time = np.where(x_history[test_name] == True)[0].min()\n",
    "        axs.axvline(x=detection_time, label=test_name, color=cmap(i))\n",
    "\n",
    "# Display plot\n",
    "axs.legend()\n",
    "plt.show()\n",
    "\n",
    "display(perf_kpis)\n"
   ]
  },
  {
   "cell_type": "code",
   "execution_count": null,
   "metadata": {},
   "outputs": [],
   "source": []
  }
 ],
 "metadata": {
  "kernelspec": {
   "display_name": "Python 3 (ipykernel)",
   "language": "python",
   "name": "python3"
  },
  "language_info": {
   "codemirror_mode": {
    "name": "ipython",
    "version": 3
   },
   "file_extension": ".py",
   "mimetype": "text/x-python",
   "name": "python",
   "nbconvert_exporter": "python",
   "pygments_lexer": "ipython3",
   "version": "3.10.8"
  },
  "vscode": {
   "interpreter": {
    "hash": "7b3883b5f599c426bb6b391417d7c4782b309cbe970ee3c57483c7ec66d71074"
   }
  }
 },
 "nbformat": 4,
 "nbformat_minor": 4
}
