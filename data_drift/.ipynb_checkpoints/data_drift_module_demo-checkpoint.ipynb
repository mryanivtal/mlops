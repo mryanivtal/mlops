{
 "cells": [
  {
   "cell_type": "markdown",
   "metadata": {},
   "source": [
    "## Preparations"
   ]
  },
  {
   "cell_type": "markdown",
   "metadata": {},
   "source": [
    "### Imports"
   ]
  },
  {
   "cell_type": "code",
   "execution_count": null,
   "metadata": {},
   "outputs": [],
   "source": [
    "import numpy as np\n",
    "from matplotlib.pyplot import get_cmap\n",
    "from sklearn.model_selection import train_test_split\n",
    "from matplotlib import pyplot as plt\n",
    "import pandas as pd\n",
    "from boston_ds import BostonDS\n",
    "from drift_detection.drift_testers.ks_drift_tester import KsDriftTester\n",
    "from helpers.data_helper import sample_from_data, change_int_values\n",
    "from helpers.model_helper import XgbModel\n",
    "from helpers.utils import calc_perf_kpis\n",
    "\n",
    "from drift_detection.drift_detector import DriftDetector\n"
   ]
  },
  {
   "cell_type": "markdown",
   "metadata": {},
   "source": [
    "### Prepare Boston data for demo"
   ]
  },
  {
   "cell_type": "code",
   "execution_count": null,
   "metadata": {},
   "outputs": [],
   "source": [
    "\n",
    "# ============================================================= Initial data setup\n",
    "# Load and prep boston data\n",
    "boston = BostonDS()\n",
    "\n",
    "x = boston.x\n",
    "y = boston.y\n",
    "x_cont_features = boston.cont_features\n",
    "x_int_features = boston.int_features\n",
    "x_cat_features = boston.cat_features\n",
    "\n",
    "# from entire dataset, choose subset for initial train/test\n",
    "TRAIN_TEST_SIZE = 520\n",
    "x_sample, y_sample = sample_from_data(x, y, TRAIN_TEST_SIZE)\n",
    "x_train, x_test, y_train, y_test = train_test_split(x_sample, y_sample, test_size=0.4, random_state=10)\n",
    "\n",
    "display(x_train.head())"
   ]
  },
  {
   "cell_type": "markdown",
   "metadata": {},
   "source": [
    "## Train Step"
   ]
  },
  {
   "cell_type": "markdown",
   "metadata": {},
   "source": [
    "### Model train"
   ]
  },
  {
   "cell_type": "code",
   "execution_count": null,
   "metadata": {},
   "outputs": [],
   "source": [
    "\n",
    "# ============================================================= Train step\n",
    "# Build model on train data\n",
    "model = XgbModel()\n",
    "model.fit(x_train, y_train)\n"
   ]
  },
  {
   "cell_type": "markdown",
   "metadata": {},
   "source": [
    "### Drift detector configuration and train"
   ]
  },
  {
   "cell_type": "markdown",
   "metadata": {},
   "source": [
    "**Creates a drift detector and auto-select and fit drift testers based on feature types:**\n",
    "* Numeric features - Kolmogorov–Smirnov tester\n",
    "* Categorical tests - Chi^2 tester\n",
    "* All together - KL Divergence (Multivariable) tester\n",
    "\n",
    "All testers default with pval=0.005, with three conseq. failures."
   ]
  },
  {
   "cell_type": "code",
   "execution_count": null,
   "metadata": {},
   "outputs": [],
   "source": [
    "# Create Feature drift detector with all default testers\n",
    "drift_detector = DriftDetector()\n",
    "drift_detector.autoselect_testers(x_cont_features, x_int_features, x_cat_features)\n",
    "drift_detector.fit(x_train)"
   ]
  },
  {
   "cell_type": "code",
   "execution_count": null,
   "metadata": {},
   "outputs": [],
   "source": [
    "tests_in_detector = drift_detector.drift_test_set.get_test_names()\n",
    "print('Testers in drif detector: ', len(tests_in_detector),'\\n', tests_in_detector)"
   ]
  },
  {
   "cell_type": "markdown",
   "metadata": {},
   "source": [
    "**In Advanced mode - user can select other testers, p-vals, conseq failures.**\n",
    "\n",
    "Univariate testers:\n",
    "* Kolmogorov–Smirnov\n",
    "* Chi^2\n",
    "\n",
    "Multivariate testers:\n",
    "* Multivariate KL Divergence with autofit\n",
    "* Multivariate MMD (Max Mean Divergence) with autofit\n",
    "* Multivatiate KS over PCA\n"
   ]
  },
  {
   "cell_type": "markdown",
   "metadata": {},
   "source": [
    "### Collect data for plots later"
   ]
  },
  {
   "cell_type": "code",
   "execution_count": null,
   "metadata": {},
   "outputs": [],
   "source": [
    "# Initial predction / drift test plan\n",
    "y_pred = model.predict(x_test)\n",
    "drift_test_results = drift_detector.test_drift(x_test)"
   ]
  },
  {
   "cell_type": "code",
   "execution_count": null,
   "metadata": {},
   "outputs": [],
   "source": [
    "# Calc and store initial model performance KPIs on test\n",
    "kpi = calc_perf_kpis(x_test, y_test, y_pred)\n",
    "kpi['drift_detected'] = drift_test_results['drift_detected']\n",
    "kpi['test_exceptions'] = drift_test_results['test_exceptions']\n",
    "\n",
    "perf_kpis = pd.DataFrame(columns=kpi.keys()).append(kpi, ignore_index=True)"
   ]
  },
  {
   "cell_type": "code",
   "execution_count": null,
   "metadata": {},
   "outputs": [],
   "source": [
    "# Add control plots data collector\n",
    "control_data = {}\n",
    "for tester_name in drift_detector.drift_test_set.get_test_names():\n",
    "    df = pd.DataFrame(columns=['threshold', 'value'])\n",
    "    control_data[tester_name] = df"
   ]
  },
  {
   "cell_type": "markdown",
   "metadata": {},
   "source": [
    "## Runtime step"
   ]
  },
  {
   "cell_type": "code",
   "execution_count": null,
   "metadata": {},
   "outputs": [],
   "source": [
    "# ============================================================= Runtime step\n",
    "number_of_batches = 300\n",
    "start_drift_at_batch = 100\n",
    "sample_size = 50\n",
    "\n",
    "\n",
    "# Runtime loop\n",
    "for i in range(number_of_batches):\n",
    "    # Sample batch from data (No drift yet)\n",
    "    x_sample, y_sample = sample_from_data(x, y, sample_size)\n",
    "\n",
    "    # modify data batch to create feature drift\n",
    "    if i > start_drift_at_batch:\n",
    "        x_sample['RM'] = x_sample['RM'] + x['RM'].std() * 0.01 * (i - start_drift_at_batch)\n",
    "        x_sample['LSTAT'] = x_sample['LSTAT'] + x['LSTAT'].std() * 0.01 * (i - start_drift_at_batch)\n",
    "        x_sample = change_int_values(x_sample, 'CHAS', 0, 1, 0.01 * (i - start_drift_at_batch))\n",
    "\n",
    "\n",
    "    # predict\n",
    "    y_pred = model.predict(x_sample)\n",
    "        \n",
    "    # Execute drift test\n",
    "    drift_test_results = drift_detector.test_drift(x_sample)\n",
    "\n",
    "    # calc RMSE (For demo only, cannot do in real runtime - no labels there\n",
    "    kpi_sample = calc_perf_kpis(x_sample, y_sample, y_pred)\n",
    "\n",
    "    # Collect data for plots later on\n",
    "    kpi_sample['drift_detected'] = drift_test_results['drift_detected']\n",
    "    kpi_sample['test_exceptions'] = drift_test_results['test_exceptions']\n",
    "    perf_kpis = perf_kpis.append(kpi_sample, ignore_index=True)\n",
    "    \n",
    "    # Get data for control charts\n",
    "    for tester in drift_detector.drift_test_set.drift_testers:\n",
    "        control_record = {\n",
    "            'threshold': tester.get_threshold(),\n",
    "            'value': tester.last_value}\n",
    "\n",
    "        control_data[tester.test_name] = control_data[tester.test_name].append(control_record, ignore_index=True)\n"
   ]
  },
  {
   "cell_type": "markdown",
   "metadata": {},
   "source": [
    "## Plot RMSE and detection results"
   ]
  },
  {
   "cell_type": "code",
   "execution_count": null,
   "metadata": {},
   "outputs": [],
   "source": [
    "\n",
    "# ========================================================================== Plot\n",
    "\n",
    "fig, axs = plt.subplots(figsize=(7, 7))\n",
    "\n",
    "# plot RMSE (Loss function) line\n",
    "axs.plot(perf_kpis['RMSE'])\n",
    "\n",
    "# plot vertical lin for data drift start point\n",
    "axs.axvline(x=start_drift_at_batch, label='drift_start', color='r', linestyle='dashed')\n",
    "\n",
    "# Get drift detector x_history for plots\n",
    "x_history = drift_detector.history_df\n",
    "\n",
    "# plot vertical line for each tester that fired\n",
    "fail_detections = []\n",
    "cmap = get_cmap('hsv', 15)\n",
    "\n",
    "for i, test_name in enumerate(drift_detector.get_test_names()):\n",
    "    if x_history[test_name].sum() > 0:\n",
    "        detection_time = np.where(x_history[test_name] == True)[0].min()\n",
    "        axs.axvline(x=detection_time, label=test_name, color=cmap(i))\n",
    "\n",
    "# Display plot\n",
    "axs.legend()\n",
    "plt.show()"
   ]
  },
  {
   "cell_type": "code",
   "execution_count": null,
   "metadata": {},
   "outputs": [],
   "source": [
    "\n",
    "# ==============================================================Plot control \n",
    "plots_to_display = ['ks_CRIM', 'kl_div', 'ks_RM']\n",
    "n_testers = len(plots_to_display)\n",
    "fig, axs = plt.subplots(n_testers, figsize=(12, 2*n_testers))\n",
    "i = 0\n",
    "\n",
    "for item in control_data.items():\n",
    "    if item[0] in plots_to_display:\n",
    "        axs[i].plot(item[1].iloc[:, 0], color='b')\n",
    "        axs[i].plot(item[1].iloc[:, 1], color='r')\n",
    "        axs[i].set_title(item[0], loc='left')\n",
    "        i += 1\n",
    "\n",
    "plt.show()"
   ]
  },
  {
   "cell_type": "code",
   "execution_count": null,
   "metadata": {},
   "outputs": [],
   "source": [
    "display(perf_kpis)\n"
   ]
  }
 ],
 "metadata": {
  "kernelspec": {
   "display_name": "Python 3 (ipykernel)",
   "language": "python",
   "name": "python3"
  },
  "language_info": {
   "codemirror_mode": {
    "name": "ipython",
    "version": 3
   },
   "file_extension": ".py",
   "mimetype": "text/x-python",
   "name": "python",
   "nbconvert_exporter": "python",
   "pygments_lexer": "ipython3",
   "version": "3.10.8"
  },
  "vscode": {
   "interpreter": {
    "hash": "7b3883b5f599c426bb6b391417d7c4782b309cbe970ee3c57483c7ec66d71074"
   }
  }
 },
 "nbformat": 4,
 "nbformat_minor": 4
}
