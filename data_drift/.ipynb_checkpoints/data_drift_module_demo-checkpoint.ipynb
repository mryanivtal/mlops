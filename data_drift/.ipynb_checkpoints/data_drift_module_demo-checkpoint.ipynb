{
 "cells": [
  {
   "cell_type": "markdown",
   "metadata": {},
   "source": [
    "## Preparations"
   ]
  },
  {
   "cell_type": "markdown",
   "metadata": {},
   "source": [
    "### Imports"
   ]
  },
  {
   "cell_type": "code",
   "execution_count": 1,
   "metadata": {},
   "outputs": [
    {
     "name": "stderr",
     "output_type": "stream",
     "text": [
      "D:\\docs\\Study\\DSML_IDC\\Semester5\\MLOps\\Project\\venv\\lib\\site-packages\\tqdm\\auto.py:22: TqdmWarning: IProgress not found. Please update jupyter and ipywidgets. See https://ipywidgets.readthedocs.io/en/stable/user_install.html\n",
      "  from .autonotebook import tqdm as notebook_tqdm\n"
     ]
    }
   ],
   "source": [
    "import numpy as np\n",
    "from matplotlib.pyplot import get_cmap\n",
    "from sklearn.model_selection import train_test_split\n",
    "from matplotlib import pyplot as plt\n",
    "import pandas as pd\n",
    "from boston_ds import BostonDS\n",
    "from drift_detection.drift_testers.ks_drift_tester import KsDriftTester\n",
    "from helpers.data_helper import sample_from_data, change_int_values\n",
    "from helpers.model_helper import XgbModel\n",
    "from helpers.utils import calc_perf_kpis\n",
    "\n",
    "from drift_detection.drift_detector import DriftDetector\n"
   ]
  },
  {
   "cell_type": "markdown",
   "metadata": {},
   "source": [
    "### Prepare Boston data for demo"
   ]
  },
  {
   "cell_type": "code",
   "execution_count": 2,
   "metadata": {},
   "outputs": [
    {
     "data": {
      "text/html": [
       "<div>\n",
       "<style scoped>\n",
       "    .dataframe tbody tr th:only-of-type {\n",
       "        vertical-align: middle;\n",
       "    }\n",
       "\n",
       "    .dataframe tbody tr th {\n",
       "        vertical-align: top;\n",
       "    }\n",
       "\n",
       "    .dataframe thead th {\n",
       "        text-align: right;\n",
       "    }\n",
       "</style>\n",
       "<table border=\"1\" class=\"dataframe\">\n",
       "  <thead>\n",
       "    <tr style=\"text-align: right;\">\n",
       "      <th></th>\n",
       "      <th>CRIM</th>\n",
       "      <th>ZN</th>\n",
       "      <th>INDUS</th>\n",
       "      <th>CHAS</th>\n",
       "      <th>NOX</th>\n",
       "      <th>RM</th>\n",
       "      <th>AGE</th>\n",
       "      <th>DIS</th>\n",
       "      <th>RAD</th>\n",
       "      <th>TAX</th>\n",
       "      <th>PTRATIO</th>\n",
       "      <th>B</th>\n",
       "      <th>LSTAT</th>\n",
       "    </tr>\n",
       "  </thead>\n",
       "  <tbody>\n",
       "    <tr>\n",
       "      <th>2121</th>\n",
       "      <td>0.066407</td>\n",
       "      <td>0.0</td>\n",
       "      <td>2.89</td>\n",
       "      <td>0</td>\n",
       "      <td>0.443251</td>\n",
       "      <td>8.069</td>\n",
       "      <td>75.815803</td>\n",
       "      <td>3.497078</td>\n",
       "      <td>2</td>\n",
       "      <td>276</td>\n",
       "      <td>18.0</td>\n",
       "      <td>396.9</td>\n",
       "      <td>4.21</td>\n",
       "    </tr>\n",
       "    <tr>\n",
       "      <th>1850</th>\n",
       "      <td>-0.120243</td>\n",
       "      <td>35.0</td>\n",
       "      <td>6.06</td>\n",
       "      <td>0</td>\n",
       "      <td>0.436007</td>\n",
       "      <td>6.031</td>\n",
       "      <td>23.344811</td>\n",
       "      <td>6.649857</td>\n",
       "      <td>1</td>\n",
       "      <td>304</td>\n",
       "      <td>16.9</td>\n",
       "      <td>362.25</td>\n",
       "      <td>7.83</td>\n",
       "    </tr>\n",
       "    <tr>\n",
       "      <th>107</th>\n",
       "      <td>0.157878</td>\n",
       "      <td>0.0</td>\n",
       "      <td>8.56</td>\n",
       "      <td>0</td>\n",
       "      <td>0.519798</td>\n",
       "      <td>6.127</td>\n",
       "      <td>85.022821</td>\n",
       "      <td>2.133618</td>\n",
       "      <td>5</td>\n",
       "      <td>384</td>\n",
       "      <td>20.9</td>\n",
       "      <td>387.69</td>\n",
       "      <td>14.09</td>\n",
       "    </tr>\n",
       "    <tr>\n",
       "      <th>2023</th>\n",
       "      <td>0.088257</td>\n",
       "      <td>0.0</td>\n",
       "      <td>11.93</td>\n",
       "      <td>0</td>\n",
       "      <td>0.572235</td>\n",
       "      <td>6.03</td>\n",
       "      <td>81.009964</td>\n",
       "      <td>2.490506</td>\n",
       "      <td>1</td>\n",
       "      <td>273</td>\n",
       "      <td>21.0</td>\n",
       "      <td>396.9</td>\n",
       "      <td>7.88</td>\n",
       "    </tr>\n",
       "    <tr>\n",
       "      <th>385</th>\n",
       "      <td>16.793951</td>\n",
       "      <td>0.0</td>\n",
       "      <td>18.1</td>\n",
       "      <td>0</td>\n",
       "      <td>0.702028</td>\n",
       "      <td>5.277</td>\n",
       "      <td>97.958517</td>\n",
       "      <td>1.457891</td>\n",
       "      <td>24</td>\n",
       "      <td>666</td>\n",
       "      <td>20.2</td>\n",
       "      <td>396.9</td>\n",
       "      <td>30.81</td>\n",
       "    </tr>\n",
       "  </tbody>\n",
       "</table>\n",
       "</div>"
      ],
      "text/plain": [
       "           CRIM    ZN  INDUS  CHAS       NOX     RM        AGE       DIS  RAD  \\\n",
       "2121   0.066407   0.0   2.89     0  0.443251  8.069  75.815803  3.497078    2   \n",
       "1850  -0.120243  35.0   6.06     0  0.436007  6.031  23.344811  6.649857    1   \n",
       "107    0.157878   0.0   8.56     0  0.519798  6.127  85.022821  2.133618    5   \n",
       "2023   0.088257   0.0  11.93     0  0.572235   6.03  81.009964  2.490506    1   \n",
       "385   16.793951   0.0   18.1     0  0.702028  5.277  97.958517  1.457891   24   \n",
       "\n",
       "      TAX  PTRATIO       B  LSTAT  \n",
       "2121  276     18.0   396.9   4.21  \n",
       "1850  304     16.9  362.25   7.83  \n",
       "107   384     20.9  387.69  14.09  \n",
       "2023  273     21.0   396.9   7.88  \n",
       "385   666     20.2   396.9  30.81  "
      ]
     },
     "metadata": {},
     "output_type": "display_data"
    }
   ],
   "source": [
    "\n",
    "# ============================================================= Initial data setup\n",
    "# Load and prep boston data\n",
    "boston = BostonDS()\n",
    "\n",
    "x = boston.x\n",
    "y = boston.y\n",
    "x_cont_features = boston.cont_features\n",
    "x_int_features = boston.int_features\n",
    "x_cat_features = boston.cat_features\n",
    "\n",
    "# from entire dataset, choose subset for initial train/test\n",
    "TRAIN_TEST_SIZE = 520\n",
    "x_sample, y_sample = sample_from_data(x, y, TRAIN_TEST_SIZE)\n",
    "x_train, x_test, y_train, y_test = train_test_split(x_sample, y_sample, test_size=0.4, random_state=10)\n",
    "\n",
    "display(x_train.head())"
   ]
  },
  {
   "cell_type": "markdown",
   "metadata": {},
   "source": [
    "## Train Step"
   ]
  },
  {
   "cell_type": "markdown",
   "metadata": {},
   "source": [
    "### Model train"
   ]
  },
  {
   "cell_type": "code",
   "execution_count": 3,
   "metadata": {},
   "outputs": [],
   "source": [
    "\n",
    "# ============================================================= Train step\n",
    "# Build model on train data\n",
    "model = XgbModel()\n",
    "model.fit(x_train, y_train)\n"
   ]
  },
  {
   "cell_type": "markdown",
   "metadata": {},
   "source": [
    "### Drift detector configuration and train"
   ]
  },
  {
   "cell_type": "markdown",
   "metadata": {},
   "source": [
    "**Creates a drift detector and auto-select and fit drift testers based on feature types:**\n",
    "* Numeric features - Kolmogorov–Smirnov tester\n",
    "* Categorical tests - Chi^2 tester\n",
    "* All together - KL Divergence (Multivariable) tester\n",
    "\n",
    "All testers default with pval=0.005, with three conseq. failures."
   ]
  },
  {
   "cell_type": "code",
   "execution_count": 4,
   "metadata": {},
   "outputs": [],
   "source": [
    "# Create Feature drift detector with all default testers\n",
    "drift_detector = DriftDetector()\n",
    "drift_detector.autoselect_testers(x_cont_features, x_int_features, x_cat_features)\n",
    "drift_detector.fit(x_train)"
   ]
  },
  {
   "cell_type": "code",
   "execution_count": 5,
   "metadata": {},
   "outputs": [
    {
     "name": "stdout",
     "output_type": "stream",
     "text": [
      "Testers in drif detector:  14 \n",
      " ['ks_CRIM', 'ks_ZN', 'ks_INDUS', 'ks_NOX', 'ks_RM', 'ks_AGE', 'ks_DIS', 'ks_PTRATIO', 'ks_B', 'ks_LSTAT', 'ks_RAD', 'ks_TAX', 'chi_CHAS', 'kl_div']\n"
     ]
    }
   ],
   "source": [
    "tests_in_detector = drift_detector.drift_test_set.get_test_names()\n",
    "print('Testers in drif detector: ', len(tests_in_detector),'\\n', tests_in_detector)"
   ]
  },
  {
   "cell_type": "markdown",
   "metadata": {},
   "source": [
    "**In Advanced mode - user can select other testers, p-vals, conseq failures.**\n",
    "\n",
    "Univariate testers:\n",
    "* Kolmogorov–Smirnov\n",
    "* Chi^2\n",
    "\n",
    "Multivariate testers:\n",
    "* Multivariate KL Divergence with autofit\n",
    "* Multivariate MMD (Max Mean Divergence) with autofit\n",
    "* Multivatiate KS over PCA\n"
   ]
  },
  {
   "cell_type": "markdown",
   "metadata": {},
   "source": [
    "### Collect data for plots later"
   ]
  },
  {
   "cell_type": "code",
   "execution_count": 6,
   "metadata": {},
   "outputs": [],
   "source": [
    "# Initial predction / drift test plan\n",
    "y_pred = model.predict(x_test)\n",
    "drift_test_results = drift_detector.test_drift(x_test)"
   ]
  },
  {
   "cell_type": "code",
   "execution_count": 7,
   "metadata": {},
   "outputs": [],
   "source": [
    "# Calc and store initial model performance KPIs on test\n",
    "kpi = calc_perf_kpis(x_test, y_test, y_pred)\n",
    "kpi['drift_detected'] = drift_test_results['drift_detected']\n",
    "kpi['test_exceptions'] = drift_test_results['test_exceptions']\n",
    "\n",
    "perf_kpis = pd.DataFrame(columns=kpi.keys()).append(kpi, ignore_index=True)"
   ]
  },
  {
   "cell_type": "markdown",
   "metadata": {},
   "source": [
    "## Runtime step"
   ]
  },
  {
   "cell_type": "code",
   "execution_count": 8,
   "metadata": {},
   "outputs": [],
   "source": [
    "# ============================================================= Runtime step\n",
    "number_of_batches = 300\n",
    "start_drift_at_batch = 100\n",
    "sample_size = 50\n",
    "\n",
    "\n",
    "# Runtime loop\n",
    "for i in range(number_of_batches):\n",
    "    # Sample batch from data (No drift yet)\n",
    "    x_sample, y_sample = sample_from_data(x, y, sample_size)\n",
    "\n",
    "    # modify data batch to create feature drift\n",
    "    if i > start_drift_at_batch:\n",
    "        x_sample['RM'] = x_sample['RM'] + x['RM'].std() * 0.01 * (i - start_drift_at_batch)\n",
    "        x_sample['LSTAT'] = x_sample['LSTAT'] + x['LSTAT'].std() * 0.01 * (i - start_drift_at_batch)\n",
    "        x_sample = change_int_values(x_sample, 'CHAS', 0, 1, 0.01 * (i - start_drift_at_batch))\n",
    "\n",
    "\n",
    "    # predict\n",
    "    y_pred = model.predict(x_sample)\n",
    "\n",
    "    # calc RMSE (For demo only, cannot do in real runtime - no labels there\n",
    "    kpi_sample = calc_perf_kpis(x_sample, y_sample, y_pred)\n",
    "\n",
    "    # Execute drift test\n",
    "    drift_test_results = drift_detector.test_drift(x_sample)\n",
    "\n",
    "    # Collect data for plots later on\n",
    "    kpi_sample['drift_detected'] = drift_test_results['drift_detected']\n",
    "    kpi_sample['test_exceptions'] = drift_test_results['test_exceptions']\n",
    "    perf_kpis = perf_kpis.append(kpi_sample, ignore_index=True)\n"
   ]
  },
  {
   "cell_type": "markdown",
   "metadata": {},
   "source": [
    "## Plot RMSE and detection results"
   ]
  },
  {
   "cell_type": "code",
   "execution_count": 9,
   "metadata": {},
   "outputs": [
    {
     "data": {
      "image/png": "[encoded data removed]",
      "text/plain": [
       "<Figure size 700x700 with 1 Axes>"
      ]
     },
     "metadata": {},
     "output_type": "display_data"
    },
    {
     "data": {
      "text/html": [
       "<div>\n",
       "<style scoped>\n",
       "    .dataframe tbody tr th:only-of-type {\n",
       "        vertical-align: middle;\n",
       "    }\n",
       "\n",
       "    .dataframe tbody tr th {\n",
       "        vertical-align: top;\n",
       "    }\n",
       "\n",
       "    .dataframe thead th {\n",
       "        text-align: right;\n",
       "    }\n",
       "</style>\n",
       "<table border=\"1\" class=\"dataframe\">\n",
       "  <thead>\n",
       "    <tr style=\"text-align: right;\">\n",
       "      <th></th>\n",
       "      <th>R_sq</th>\n",
       "      <th>ajd_R_sq</th>\n",
       "      <th>MAE</th>\n",
       "      <th>MSE</th>\n",
       "      <th>RMSE</th>\n",
       "      <th>drift_detected</th>\n",
       "      <th>test_exceptions</th>\n",
       "    </tr>\n",
       "  </thead>\n",
       "  <tbody>\n",
       "    <tr>\n",
       "      <th>0</th>\n",
       "      <td>0.904186</td>\n",
       "      <td>0.897766</td>\n",
       "      <td>1.585849</td>\n",
       "      <td>1.585849</td>\n",
       "      <td>2.687057</td>\n",
       "      <td>False</td>\n",
       "      <td>[]</td>\n",
       "    </tr>\n",
       "    <tr>\n",
       "      <th>1</th>\n",
       "      <td>0.916129</td>\n",
       "      <td>0.885842</td>\n",
       "      <td>1.398747</td>\n",
       "      <td>1.398747</td>\n",
       "      <td>2.545387</td>\n",
       "      <td>False</td>\n",
       "      <td>[]</td>\n",
       "    </tr>\n",
       "    <tr>\n",
       "      <th>2</th>\n",
       "      <td>0.954188</td>\n",
       "      <td>0.937645</td>\n",
       "      <td>0.989618</td>\n",
       "      <td>0.989618</td>\n",
       "      <td>2.162183</td>\n",
       "      <td>False</td>\n",
       "      <td>[]</td>\n",
       "    </tr>\n",
       "    <tr>\n",
       "      <th>3</th>\n",
       "      <td>0.951827</td>\n",
       "      <td>0.934431</td>\n",
       "      <td>1.045863</td>\n",
       "      <td>1.045863</td>\n",
       "      <td>1.712152</td>\n",
       "      <td>False</td>\n",
       "      <td>[]</td>\n",
       "    </tr>\n",
       "    <tr>\n",
       "      <th>4</th>\n",
       "      <td>0.922773</td>\n",
       "      <td>0.894885</td>\n",
       "      <td>1.414048</td>\n",
       "      <td>1.414048</td>\n",
       "      <td>2.612955</td>\n",
       "      <td>False</td>\n",
       "      <td>[]</td>\n",
       "    </tr>\n",
       "    <tr>\n",
       "      <th>...</th>\n",
       "      <td>...</td>\n",
       "      <td>...</td>\n",
       "      <td>...</td>\n",
       "      <td>...</td>\n",
       "      <td>...</td>\n",
       "      <td>...</td>\n",
       "      <td>...</td>\n",
       "    </tr>\n",
       "    <tr>\n",
       "      <th>296</th>\n",
       "      <td>0.253678</td>\n",
       "      <td>-0.015827</td>\n",
       "      <td>6.478659</td>\n",
       "      <td>6.478659</td>\n",
       "      <td>7.932793</td>\n",
       "      <td>True</td>\n",
       "      <td>[ks_RM, ks_LSTAT, kl_div]</td>\n",
       "    </tr>\n",
       "    <tr>\n",
       "      <th>297</th>\n",
       "      <td>0.605727</td>\n",
       "      <td>0.463350</td>\n",
       "      <td>5.246840</td>\n",
       "      <td>5.246840</td>\n",
       "      <td>6.349357</td>\n",
       "      <td>True</td>\n",
       "      <td>[ks_RM, ks_LSTAT, kl_div]</td>\n",
       "    </tr>\n",
       "    <tr>\n",
       "      <th>298</th>\n",
       "      <td>0.467328</td>\n",
       "      <td>0.274974</td>\n",
       "      <td>6.215228</td>\n",
       "      <td>6.215228</td>\n",
       "      <td>7.319889</td>\n",
       "      <td>True</td>\n",
       "      <td>[ks_RM, ks_LSTAT, kl_div]</td>\n",
       "    </tr>\n",
       "    <tr>\n",
       "      <th>299</th>\n",
       "      <td>0.479664</td>\n",
       "      <td>0.291765</td>\n",
       "      <td>5.709650</td>\n",
       "      <td>5.709650</td>\n",
       "      <td>7.005858</td>\n",
       "      <td>True</td>\n",
       "      <td>[ks_RM, ks_LSTAT, kl_div]</td>\n",
       "    </tr>\n",
       "    <tr>\n",
       "      <th>300</th>\n",
       "      <td>0.401901</td>\n",
       "      <td>0.185921</td>\n",
       "      <td>5.519512</td>\n",
       "      <td>5.519512</td>\n",
       "      <td>6.558814</td>\n",
       "      <td>True</td>\n",
       "      <td>[ks_RM, ks_LSTAT, kl_div]</td>\n",
       "    </tr>\n",
       "  </tbody>\n",
       "</table>\n",
       "<p>301 rows × 7 columns</p>\n",
       "</div>"
      ],
      "text/plain": [
       "         R_sq  ajd_R_sq       MAE       MSE      RMSE drift_detected  \\\n",
       "0    0.904186  0.897766  1.585849  1.585849  2.687057          False   \n",
       "1    0.916129  0.885842  1.398747  1.398747  2.545387          False   \n",
       "2    0.954188  0.937645  0.989618  0.989618  2.162183          False   \n",
       "3    0.951827  0.934431  1.045863  1.045863  1.712152          False   \n",
       "4    0.922773  0.894885  1.414048  1.414048  2.612955          False   \n",
       "..        ...       ...       ...       ...       ...            ...   \n",
       "296  0.253678 -0.015827  6.478659  6.478659  7.932793           True   \n",
       "297  0.605727  0.463350  5.246840  5.246840  6.349357           True   \n",
       "298  0.467328  0.274974  6.215228  6.215228  7.319889           True   \n",
       "299  0.479664  0.291765  5.709650  5.709650  7.005858           True   \n",
       "300  0.401901  0.185921  5.519512  5.519512  6.558814           True   \n",
       "\n",
       "               test_exceptions  \n",
       "0                           []  \n",
       "1                           []  \n",
       "2                           []  \n",
       "3                           []  \n",
       "4                           []  \n",
       "..                         ...  \n",
       "296  [ks_RM, ks_LSTAT, kl_div]  \n",
       "297  [ks_RM, ks_LSTAT, kl_div]  \n",
       "298  [ks_RM, ks_LSTAT, kl_div]  \n",
       "299  [ks_RM, ks_LSTAT, kl_div]  \n",
       "300  [ks_RM, ks_LSTAT, kl_div]  \n",
       "\n",
       "[301 rows x 7 columns]"
      ]
     },
     "metadata": {},
     "output_type": "display_data"
    }
   ],
   "source": [
    "\n",
    "# ========================================================================== Plot\n",
    "\n",
    "fig, axs = plt.subplots(figsize=(7, 7))\n",
    "\n",
    "# plot RMSE (Loss function) line\n",
    "axs.plot(perf_kpis['RMSE'])\n",
    "\n",
    "# plot vertical lin for data drift start point\n",
    "axs.axvline(x=start_drift_at_batch, label='drift_start', color='r', linestyle='dashed')\n",
    "\n",
    "# Get drift detector x_history for plots\n",
    "x_history = drift_detector.history_df\n",
    "\n",
    "# plot vertical line for each tester that fired\n",
    "fail_detections = []\n",
    "cmap = get_cmap('hsv', 15)\n",
    "\n",
    "for i, test_name in enumerate(drift_detector.get_test_names()):\n",
    "    if x_history[test_name].sum() > 0:\n",
    "        detection_time = np.where(x_history[test_name] == True)[0].min()\n",
    "        axs.axvline(x=detection_time, label=test_name, color=cmap(i))\n",
    "\n",
    "# Display plot\n",
    "axs.legend()\n",
    "plt.show()\n",
    "\n",
    "display(perf_kpis)\n"
   ]
  }
 ],
 "metadata": {
  "kernelspec": {
   "display_name": "Python 3 (ipykernel)",
   "language": "python",
   "name": "python3"
  },
  "language_info": {
   "codemirror_mode": {
    "name": "ipython",
    "version": 3
   },
   "file_extension": ".py",
   "mimetype": "text/x-python",
   "name": "python",
   "nbconvert_exporter": "python",
   "pygments_lexer": "ipython3",
   "version": "3.10.8"
  },
  "vscode": {
   "interpreter": {
    "hash": "7b3883b5f599c426bb6b391417d7c4782b309cbe970ee3c57483c7ec66d71074"
   }
  }
 },
 "nbformat": 4,
 "nbformat_minor": 4
}
